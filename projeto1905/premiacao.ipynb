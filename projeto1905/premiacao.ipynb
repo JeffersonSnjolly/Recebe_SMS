{
 "cells": [
  {
   "cell_type": "code",
   "execution_count": 16,
   "metadata": {},
   "outputs": [],
   "source": [
    "import pandas as pd\n",
    "from twilio.rest import Client\n",
    "\n",
    "# Your Account SID from twilio.com/console\n",
    "account_sid = \"AC14bd7b2803b9134a2bab3644418cbb5a\"\n",
    "# Your Auth Token from twilio.com/console\n",
    "auth_token  = \"aecf9ce317f251d6c1b6bfa42ba2b223\"\n",
    "client = Client(account_sid, auth_token)"
   ]
  },
  {
   "cell_type": "code",
   "execution_count": 27,
   "metadata": {},
   "outputs": [
    {
     "name": "stdout",
     "output_type": "stream",
     "text": [
      "Vendedor Chetelba bateu a meta no mes fevereiro no valor de R$55562\n",
      "SM004fe9b14093349a9be3fcfb30a03424\n"
     ]
    }
   ],
   "source": [
    "lista_mes =['janeiro','fevereiro']\n",
    "\n",
    "for mes in lista_mes:\n",
    "    \n",
    "    tabela_mes = pd.read_excel(f'{mes}.xlsx')\n",
    "   \n",
    "    if(tabela_mes.Vendas >= 50000).any():\n",
    "        vendedor = tabela_mes.loc[tabela_mes.Vendas >= 50000, 'Vendedor'].values[0]\n",
    "        venda = tabela_mes.loc[tabela_mes.Vendas >= 50000, 'Vendas'].values[0]\n",
    "        print(f'Vendedor {vendedor} bateu a meta no mes {mes} no valor de R${venda}')\n",
    "        message = client.messages.create(\n",
    "            to=\"+5511945065607\", \n",
    "            from_=\"+12543303640\",\n",
    "            body=f'Vendedor {vendedor} bateu a meta no mes {mes} no valor de R${venda}')\n",
    "\n",
    "print(message.sid)\n",
    "\n"
   ]
  },
  {
   "cell_type": "code",
   "execution_count": 28,
   "metadata": {},
   "outputs": [
    {
     "data": {
      "text/plain": [
       "'\\nmessage = client.messages.create(\\n    to=\"+5511945065607\", \\n    from_=\"+12543303640\",\\n    body=\"Hello from Python!\")\\n\\nprint(message.sid)'"
      ]
     },
     "execution_count": 28,
     "metadata": {},
     "output_type": "execute_result"
    }
   ],
   "source": [
    "\n",
    "\"\"\"\n",
    "message = client.messages.create(\n",
    "    to=\"+5511945065607\", \n",
    "    from_=\"+12543303640\",\n",
    "    body=\"Hello from Python!\")\n",
    "\n",
    "print(message.sid)\"\"\""
   ]
  }
 ],
 "metadata": {
  "kernelspec": {
   "display_name": "base",
   "language": "python",
   "name": "python3"
  },
  "language_info": {
   "codemirror_mode": {
    "name": "ipython",
    "version": 3
   },
   "file_extension": ".py",
   "mimetype": "text/x-python",
   "name": "python",
   "nbconvert_exporter": "python",
   "pygments_lexer": "ipython3",
   "version": "3.10.9"
  },
  "orig_nbformat": 4
 },
 "nbformat": 4,
 "nbformat_minor": 2
}
